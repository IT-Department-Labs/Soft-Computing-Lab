{
 "cells": [
  {
   "cell_type": "code",
   "execution_count": 2,
   "metadata": {
    "collapsed": true
   },
   "outputs": [],
   "source": [
    "from numpy import exp, array, random, dot\n",
    "import numpy as np"
   ]
  },
  {
   "cell_type": "code",
   "execution_count": 3,
   "metadata": {
    "collapsed": true
   },
   "outputs": [],
   "source": [
    "class NeuronLayer():\n",
    "    def __init__(self, number_of_neurons, number_of_inputs_per_neuron):\n",
    "        self.synaptic_weights = 2 * random.random((number_of_inputs_per_neuron, number_of_neurons)) - 1"
   ]
  },
  {
   "cell_type": "code",
   "execution_count": 4,
   "metadata": {
    "collapsed": true
   },
   "outputs": [],
   "source": [
    "class NeuralNetwork():\n",
    "    def __init__(self, layer1, layer2):\n",
    "        self.layer1 = layer1\n",
    "        self.layer2 = layer2\n",
    "\n",
    "    def __sigmoid(self, x):\n",
    "        return 1 / (1 + exp(-x))\n",
    "\n",
    "    def __sigmoid_derivative(self, x):\n",
    "        return x * (1 - x)\n",
    "\n",
    "    def train(self, training_set_inputs, training_set_outputs, number_of_training_iterations):\n",
    "        for iteration in xrange(number_of_training_iterations):\n",
    "            output_from_layer_1, output_from_layer_2 = self.think(training_set_inputs)\n",
    "\n",
    "            layer2_error = training_set_outputs - output_from_layer_2\n",
    "            layer2_delta = layer2_error * self.__sigmoid_derivative(output_from_layer_2)\n",
    "\n",
    "            layer1_error = layer2_delta.dot(self.layer2.synaptic_weights.T)\n",
    "            layer1_delta = layer1_error * self.__sigmoid_derivative(output_from_layer_1)\n",
    "\n",
    "            layer1_adjustment = training_set_inputs.T.dot(layer1_delta)\n",
    "            layer2_adjustment = output_from_layer_1.T.dot(layer2_delta)\n",
    "\n",
    "            self.layer1.synaptic_weights += layer1_adjustment\n",
    "            self.layer2.synaptic_weights += layer2_adjustment\n",
    "\n",
    "    def think(self, inputs):\n",
    "        output_from_layer1 = self.__sigmoid(dot(inputs, self.layer1.synaptic_weights))\n",
    "        output_from_layer2 = self.__sigmoid(dot(output_from_layer1, self.layer2.synaptic_weights))\n",
    "        return output_from_layer1, output_from_layer2\n",
    "\n",
    "    def print_weights(self):\n",
    "        print \"Layer 1 (4 neurons, each with 3 inputs): \"\n",
    "        print self.layer1.synaptic_weights\n",
    "        print \"Layer 2 (1 neuron, with 4 inputs):\"\n",
    "        print self.layer2.synaptic_weights\n",
    "    \n",
    "    def print_value(self, weight_output):\n",
    "        if(weight_output < 0.5):\n",
    "            print(\"Output is : \"+str(0))\n",
    "        else:\n",
    "            print(\"Output is : \"+str(1))"
   ]
  },
  {
   "cell_type": "code",
   "execution_count": 22,
   "metadata": {},
   "outputs": [
    {
     "name": "stdout",
     "output_type": "stream",
     "text": [
      "Stage 1) Random starting synaptic weights: \n",
      "    Layer 1 (4 neurons, each with 3 inputs): \n",
      "[[-0.16595599  0.44064899 -0.99977125 -0.39533485]\n",
      " [-0.70648822 -0.81532281 -0.62747958 -0.30887855]]\n",
      "    Layer 2 (1 neuron, with 4 inputs):\n",
      "[[-0.20646505]\n",
      " [ 0.07763347]\n",
      " [-0.16161097]\n",
      " [ 0.370439  ]]\n",
      "Stage 2) New synaptic weights after training: \n",
      "    Layer 1 (4 neurons, each with 3 inputs): \n",
      "[[ 3.29466269  4.11744925 -6.10247774 -7.61008987]\n",
      " [-1.43804391 -8.34688493 -5.96873454  3.54393008]]\n",
      "    Layer 2 (1 neuron, with 4 inputs):\n",
      "[[ -6.23251593]\n",
      " [ 11.1608825 ]\n",
      " [-21.11369016]\n",
      " [  6.55100947]]\n",
      "Stage 3) Considering a new situation [1, 1] -> ?: \n",
      "Output is : 0\n",
      "Output is : 1\n",
      "Output is : 1\n",
      "Output is : 0\n"
     ]
    }
   ],
   "source": [
    "if __name__ == \"__main__\":\n",
    "\n",
    "    random.seed(1)\n",
    "\n",
    "    # Create layer 1 (4 neurons, each with 2 inputs)\n",
    "    layer1 = NeuronLayer(4, 2)\n",
    "\n",
    "    # Create layer 2 (a single neuron with 4 inputs)\n",
    "    layer2 = NeuronLayer(1, 4)\n",
    "\n",
    "    # Combine the layers to create a neural network\n",
    "    neural_network = NeuralNetwork(layer1, layer2)\n",
    "\n",
    "    print \"Stage 1) Random starting synaptic weights: \"\n",
    "    neural_network.print_weights()\n",
    "\n",
    "    # The training set. We have 7 examples, each consisting of 3 input values\n",
    "    # and 1 output value.\n",
    "    training_set_inputs = array([[0, 0], [0, 1], [1, 0], [1, 1]])\n",
    "    training_set_outputs = array([[0, 1, 1, 0]]).T\n",
    "\n",
    "    # Train the neural network using the training set.\n",
    "    # Do it 60,000 times and make small adjustments each time.\n",
    "    neural_network.train(training_set_inputs, training_set_outputs, 60000)\n",
    "\n",
    "    print \"Stage 2) New synaptic weights after training: \"\n",
    "    neural_network.print_weights()\n",
    "\n",
    "    # Test the neural network with a new situation.\n",
    "    print \"Stage 3) Considering a new situation [1, 1] -> ?: \"\n",
    "    hidden_state, output1 = neural_network.think(array([0, 0]))\n",
    "    hidden_state, output2 = neural_network.think(array([0, 1]))\n",
    "    hidden_state, output3 = neural_network.think(array([1, 0]))\n",
    "    hidden_state, output4 = neural_network.think(array([1, 1]))    \n",
    "\n",
    "    neural_network.print_value(output1)\n",
    "    neural_network.print_value(output2)\n",
    "    neural_network.print_value(output3)\n",
    "    neural_network.print_value(output4)"
   ]
  }
 ],
 "metadata": {
  "kernelspec": {
   "display_name": "Python 2",
   "language": "python",
   "name": "python2"
  },
  "language_info": {
   "codemirror_mode": {
    "name": "ipython",
    "version": 2
   },
   "file_extension": ".py",
   "mimetype": "text/x-python",
   "name": "python",
   "nbconvert_exporter": "python",
   "pygments_lexer": "ipython2",
   "version": "2.7.13"
  }
 },
 "nbformat": 4,
 "nbformat_minor": 2
}
