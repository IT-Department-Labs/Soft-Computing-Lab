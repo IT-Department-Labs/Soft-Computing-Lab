{
 "cells": [
  {
   "cell_type": "code",
   "execution_count": 17,
   "metadata": {
    "collapsed": true
   },
   "outputs": [],
   "source": [
    "from random import seed\n",
    "from random import randrange\n",
    "import csv \n",
    "import ast"
   ]
  },
  {
   "cell_type": "code",
   "execution_count": 18,
   "metadata": {
    "collapsed": true
   },
   "outputs": [],
   "source": [
    "def safe_int(value):\n",
    "    try:\n",
    "        return int(ast.literal_eval(value))\n",
    "    except ValueError:\n",
    "        return value"
   ]
  },
  {
   "cell_type": "code",
   "execution_count": 19,
   "metadata": {
    "collapsed": true
   },
   "outputs": [],
   "source": [
    "# Load a CSV file\n",
    "def load_csv(filename):\n",
    "\tdataset = list()\n",
    "\twith open(filename, 'r') as input1:\n",
    "\t\treader = csv.reader(input1)\n",
    "\t\tfor row in reader:\n",
    "\t\t\tif not row:\n",
    "\t\t\t\tcontinue\n",
    "\t\t\tnew_row = list(map(safe_int, row))\n",
    "\t\t\tdataset.append(new_row)\n",
    "\t\tdataset.pop(0)\n",
    "\tnumrow = len(dataset)\n",
    "\tnumcol = len(dataset[0])\n",
    "\treturn dataset, numrow, numcol"
   ]
  },
  {
   "cell_type": "code",
   "execution_count": 20,
   "metadata": {
    "collapsed": true
   },
   "outputs": [],
   "source": [
    "#coverting the string into int\n",
    "def number_classlabel(dataset,numrow,numcol):\n",
    "\tfor i in range(numrow):\n",
    "\t\tfor j in range(numcol):\n",
    "\t\t\tif (dataset[i][j] == 'No'):\n",
    "\t\t\t\tdataset[i][j] = 0\n",
    "\t\t\telif (dataset[i][j] == 'Yes'):\n",
    "\t\t\t\tdataset[i][j] = 1"
   ]
  },
  {
   "cell_type": "code",
   "execution_count": 21,
   "metadata": {
    "collapsed": true
   },
   "outputs": [],
   "source": [
    "#converting the string into float in the dataset\n",
    "def string_to_float(dataset,numrow,numcol):\n",
    "\tfor i in range(numrow):\n",
    "\t\tfor j in range(1,numcol):\n",
    "\t\t\tpass"
   ]
  },
  {
   "cell_type": "code",
   "execution_count": 22,
   "metadata": {
    "collapsed": true
   },
   "outputs": [],
   "source": [
    "# Make a prediction with weights\n",
    "def predict(row, weights, threshold):\n",
    "\tsum_weight = weights[0] #this is the weight of the bias\n",
    "\tfor i in range(len(row)-1):\n",
    "\t\tsum_weight += weights[i + 1] * row[i+1]\n",
    "\treturn 1 if sum_weight >= threshold else 0"
   ]
  },
  {
   "cell_type": "code",
   "execution_count": 23,
   "metadata": {
    "collapsed": true
   },
   "outputs": [],
   "source": [
    "# Estimate weights\n",
    "def train_weights(trainset, l_rate, max_iter,threshold):\n",
    "\tweights = [0.022 for i in range(len(trainset[0]))]\n",
    "\ttotal_error = 0\n",
    "\tfor itern in range(max_iter):\n",
    "\t\tfor row in trainset:\n",
    "\t\t\tprediction = predict(row, weights, threshold)\n",
    "\t\t\terror = row[0] - prediction               #row[-1] returns the class label for that particular row\n",
    "\t\t\ttotal_error += error * error\n",
    "\t\t\tfor i in range(len(row)-1):\n",
    "\t\t\t\tweights[i + 1] = weights[i + 1] + l_rate * error * row[i+1] #this is for features weight change\n",
    "\t\tif(total_error == 0):                     #if total error becomes zero then break from that fold\n",
    "\t\t\tbreak\n",
    "\treturn weights"
   ]
  },
  {
   "cell_type": "code",
   "execution_count": 24,
   "metadata": {},
   "outputs": [],
   "source": [
    "# Split a dataset into k folds\n",
    "def cross_validation_split(dataset, n_folds):\n",
    "\tdataset_split = list()\n",
    "\tdataset_copy = list(dataset)\n",
    "\tfold_size = int(len(dataset) / n_folds)\n",
    "\tfor i in range(n_folds):\n",
    "\t\tfold = list()\n",
    "\t\twhile len(fold) < fold_size:\n",
    "\t\t\tindex = randrange(len(dataset_copy))\n",
    "\t\t\tfold.append(dataset_copy.pop(index))\n",
    "\t\tdataset_split.append(fold)\n",
    "\treturn dataset_split"
   ]
  },
  {
   "cell_type": "code",
   "execution_count": 25,
   "metadata": {},
   "outputs": [],
   "source": [
    "# Calculate accuracy percentage\n",
    "def acc(actual, predicted):\n",
    "\tcorrect = 0\n",
    "\tfor i in range(len(actual)):\n",
    "\t\tif actual[i] == predicted[i]:\n",
    "\t\t\tcorrect += 1\n",
    "\treturn correct / float(len(actual)) * 100.0"
   ]
  },
  {
   "cell_type": "code",
   "execution_count": 26,
   "metadata": {},
   "outputs": [],
   "source": [
    "# Evaluate an algorithm using a cross validation split\n",
    "def evaluate(dataset, algorithm, n_folds, l_rate,max_iter,threshold):\n",
    "\tfolds = cross_validation_split(dataset, n_folds)\n",
    "\tscores = list()\n",
    "\tfor fold in folds:\n",
    "\t\ttrain_set = list(folds)\n",
    "\t\ttrain_set.remove(fold)\n",
    "\t\ttrain_set = sum(train_set, [])\n",
    "\t\ttest_set = list()\n",
    "\t\tfor row in fold:\n",
    "\t\t\trow_copy = list(row)\n",
    "\t\t\ttest_set.append(row_copy)\n",
    "\t\t\trow_copy[0] = None\n",
    "\t\tpredicted = algorithm(train_set, test_set, l_rate, max_iter,threshold)\n",
    "\t\tactual = [row[0] for row in fold]\n",
    "\t\taccuracy = acc(actual, predicted)\n",
    "\t\tscores.append(accuracy)\n",
    "\treturn scores"
   ]
  },
  {
   "cell_type": "code",
   "execution_count": 27,
   "metadata": {
    "collapsed": true
   },
   "outputs": [],
   "source": [
    "def perceptron(train, test, l_rate, max_iter,threshold):\n",
    "\tpredictions = list()\n",
    "\tweights = train_weights(train, l_rate, max_iter,threshold)\n",
    "\tfor row in test:\n",
    "\t\tprediction = predict(row, weights,threshold)\n",
    "\t\tpredictions.append(prediction)\n",
    "\treturn(predictions)"
   ]
  },
  {
   "cell_type": "code",
   "execution_count": 28,
   "metadata": {},
   "outputs": [],
   "source": [
    "filename = 'SPECTF.csv'\n",
    "dataset = load_csv(filename)\n",
    "dataset, numrow, numcol = load_csv(filename)\n",
    "number_classlabel(dataset, numrow, numcol)\n",
    "# string_to_float(dataset)\n",
    "l_rate = .1\n",
    "threshold = 70"
   ]
  },
  {
   "cell_type": "code",
   "execution_count": null,
   "metadata": {},
   "outputs": [],
   "source": [
    "max_iter= 10000\n",
    "n_folds = 10\n",
    "scores = evaluate(dataset, perceptron, n_folds, l_rate, max_iter,threshold)\n",
    "print('Scores: %s' % scores)\n",
    "print('Mean Accuracy: %.3f%%' % (sum(scores)/float(len(scores))))"
   ]
  }
 ],
 "metadata": {
  "kernelspec": {
   "display_name": "Python 2",
   "language": "python",
   "name": "python2"
  },
  "language_info": {
   "codemirror_mode": {
    "name": "ipython",
    "version": 2
   },
   "file_extension": ".py",
   "mimetype": "text/x-python",
   "name": "python",
   "nbconvert_exporter": "python",
   "pygments_lexer": "ipython2",
   "version": "2.7.13"
  }
 },
 "nbformat": 4,
 "nbformat_minor": 2
}
