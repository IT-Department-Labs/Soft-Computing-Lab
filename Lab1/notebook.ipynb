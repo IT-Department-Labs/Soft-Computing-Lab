{
 "cells": [
  {
   "cell_type": "markdown",
   "metadata": {
    "_cell_guid": "65978fb7-37a7-4ec5-b12b-9a4e12fe7a4b",
    "_execution_state": "idle",
    "_uuid": "588e57dbef35d1569e10c7ef63fa8a4bdebe7250"
   },
   "source": [
    "Training a perceptron neural net from scratch using the sepal length & width, petal length & width as data inputs."
   ]
  },
  {
   "cell_type": "code",
   "execution_count": 19,
   "metadata": {
    "_cell_guid": "6d32d571-c823-41b0-b04f-7e804936cabd",
    "_execution_state": "idle",
    "_uuid": "9d26bbb1099bcc75c46be854bdd0ae6a22fe9cc0",
    "collapsed": true
   },
   "outputs": [],
   "source": [
    "%matplotlib inline"
   ]
  },
  {
   "cell_type": "code",
   "execution_count": 20,
   "metadata": {
    "_cell_guid": "566a4b01-677d-410e-b41a-a45fddd504ab",
    "_execution_state": "idle",
    "_uuid": "ffe7fb4547d5c15e0a445288a6089d1489cffbc4",
    "collapsed": true
   },
   "outputs": [],
   "source": [
    "from matplotlib import pyplot as plt\n",
    "import numpy as np"
   ]
  },
  {
   "cell_type": "code",
   "execution_count": 21,
   "metadata": {
    "_cell_guid": "1bdfa64e-0728-4379-8c7b-4595cc060157",
    "_execution_state": "idle",
    "_uuid": "1e5f024a86d50e3cb2a0e6aec25940f02ee0d023",
    "collapsed": true
   },
   "outputs": [],
   "source": [
    "# each point is SepalLength on Dm, SepalWidth on Dm, PetalLength on Dm, PetalWidth on Dm & species (0.1)\n",
    "# 0 for Iris-setosa and 1 for Iris-versicolor\n",
    "data = [[ 5.4,  3.4,  1.7,  0.2,  0. ],\n",
    "       [ 5.1,  3.7,  1.5,  0.4,  0. ],\n",
    "       [ 4.6,  3.6,  1. ,  0.2,  0. ],\n",
    "       [ 5.1,  3.3,  1.7,  0.5,  0. ],\n",
    "       [ 4.8,  3.4,  1.9,  0.2,  0. ],\n",
    "       [ 5. ,  3. ,  1.6,  0.2,  0. ],\n",
    "       [ 5. ,  3.4,  1.6,  0.4,  0. ],\n",
    "       [ 5.2,  3.5,  1.5,  0.2,  0. ],\n",
    "       [ 5.2,  3.4,  1.4,  0.2,  0. ],\n",
    "       [ 4.7,  3.2,  1.6,  0.2,  0. ],\n",
    "       [ 4.8,  3.1,  1.6,  0.2,  0. ],\n",
    "       [ 5.4,  3.4,  1.5,  0.4,  0. ],\n",
    "       [ 5.2,  4.1,  1.5,  0.1,  0. ],\n",
    "       [ 5.5,  4.2,  1.4,  0.2,  0. ],\n",
    "       [ 4.9,  3.1,  1.5,  0.1,  0. ],\n",
    "       [ 5. ,  3.2,  1.2,  0.2,  0. ],\n",
    "       [ 5.5,  3.5,  1.3,  0.2,  0. ],\n",
    "       [ 4.9,  3.1,  1.5,  0.1,  0. ],\n",
    "       [ 4.4,  3. ,  1.3,  0.2,  0. ],\n",
    "       [ 5.1,  3.4,  1.5,  0.2,  0. ],\n",
    "       [ 5. ,  3.5,  1.3,  0.3,  0. ],\n",
    "       [ 4.5,  2.3,  1.3,  0.3,  0. ],\n",
    "       [ 4.4,  3.2,  1.3,  0.2,  0. ],\n",
    "       [ 5. ,  3.5,  1.6,  0.6,  0. ],\n",
    "       [ 5.1,  3.8,  1.9,  0.4,  0. ],\n",
    "       [ 4.8,  3. ,  1.4,  0.3,  0. ],\n",
    "       [ 5.1,  3.8,  1.6,  0.2,  0. ],\n",
    "       [ 4.6,  3.2,  1.4,  0.2,  0. ],\n",
    "       [ 5.3,  3.7,  1.5,  0.2,  0. ],\n",
    "       [ 5. ,  3.3,  1.4,  0.2,  0. ],\n",
    "       [ 6.8,  2.8,  4.8,  1.4,  1. ],\n",
    "       [ 6.7,  3. ,  5. ,  1.7,  1. ],\n",
    "       [ 6. ,  2.9,  4.5,  1.5,  1. ],\n",
    "       [ 5.7,  2.6,  3.5,  1. ,  1. ],\n",
    "       [ 5.5,  2.4,  3.8,  1.1,  1. ],\n",
    "       [ 5.5,  2.4,  3.7,  1. ,  1. ],\n",
    "       [ 5.8,  2.7,  3.9,  1.2,  1. ],\n",
    "       [ 6. ,  2.7,  5.1,  1.6,  1. ],\n",
    "       [ 5.4,  3. ,  4.5,  1.5,  1. ],\n",
    "       [ 6. ,  3.4,  4.5,  1.6,  1. ],\n",
    "       [ 6.7,  3.1,  4.7,  1.5,  1. ],\n",
    "       [ 6.3,  2.3,  4.4,  1.3,  1. ],\n",
    "       [ 5.6,  3. ,  4.1,  1.3,  1. ],\n",
    "       [ 5.5,  2.5,  4. ,  1.3,  1. ],\n",
    "       [ 5.5,  2.6,  4.4,  1.2,  1. ],\n",
    "       [ 6.1,  3. ,  4.6,  1.4,  1. ],\n",
    "       [ 5.8,  2.6,  4. ,  1.2,  1. ],\n",
    "       [ 5. ,  2.3,  3.3,  1. ,  1. ],\n",
    "       [ 5.6,  2.7,  4.2,  1.3,  1. ],\n",
    "       [ 5.7,  3. ,  4.2,  1.2,  1. ],\n",
    "       [ 5.7,  2.9,  4.2,  1.3,  1. ],\n",
    "       [ 6.2,  2.9,  4.3,  1.3,  1. ],\n",
    "       [ 5.1,  2.5,  3. ,  1.1,  1. ],\n",
    "       [ 5.7,  2.8,  4.1,  1.3,  1. ]]"
   ]
  },
  {
   "cell_type": "code",
   "execution_count": 22,
   "metadata": {
    "_cell_guid": "3f2dcaf8-4c68-48cb-b593-67336ebdfa78",
    "_execution_state": "idle",
    "_uuid": "6a745824b1290576ef102733c9ba14a5b8fbb34a",
    "collapsed": true
   },
   "outputs": [],
   "source": [
    "def sigmoid(x) :\n",
    "    return 1/(1 + np.exp(-x))\n",
    "\n",
    "def sigmoid_p(x) :\n",
    "    return sigmoid(x) * (1-sigmoid(x))"
   ]
  },
  {
   "cell_type": "code",
   "execution_count": 23,
   "metadata": {
    "_cell_guid": "fda3c1ca-aa3b-4367-a834-19681ae11332",
    "_execution_state": "idle",
    "_uuid": "f2884f7f5d541a64d7629b2e4e0267d11d5f248e"
   },
   "outputs": [
    {
     "data": {
      "text/plain": [
       "[<matplotlib.lines.Line2D at 0x7f7b8b7d91d0>]"
      ]
     },
     "execution_count": 23,
     "metadata": {},
     "output_type": "execute_result"
    },
    {
     "data": {
      "image/png": "[encoded data removed]",
      "text/plain": [
       "<matplotlib.figure.Figure at 0x7f7b8ba23590>"
      ]
     },
     "metadata": {},
     "output_type": "display_data"
    }
   ],
   "source": [
    "# training loop\n",
    "learning_rate = 0.2\n",
    "costs = []\n",
    "\n",
    "# weights & bias value\n",
    "w1 = np.random.randn()\n",
    "w2 = np.random.randn()\n",
    "w3 = np.random.randn()\n",
    "w4 = np.random.randn()\n",
    "b = np.random.randn()\n",
    "\n",
    "for i in range(1000000) :\n",
    "    ri = np.random.randint(len(data))\n",
    "    point = data[ri]\n",
    "    \n",
    "    z = point[0] * w1 + point[1] * w2 + point[2] * w3 + point[3] * w4 + b\n",
    "    prediction = sigmoid(z)\n",
    "    \n",
    "    target = point[4]\n",
    "    \n",
    "    # cost function\n",
    "    cost = np.square(prediction - target)\n",
    "    \n",
    "    # derivative of the cost function\n",
    "    dcost_prediction = 2 * (prediction - target)\n",
    "    \n",
    "    # sigmoid_p which is defined above is the derivative of sigmoid\n",
    "    dprediction_dz = sigmoid_p(z)\n",
    "    \n",
    "    # For the derivatives of the weights \n",
    "    # it’s the inputs values because they are constants \n",
    "    # & for the derivative of the Bias it’s 1\n",
    "    dz_dw1 = point[0]\n",
    "    dz_dw2 = point[1]\n",
    "    dz_dw3 = point[2]\n",
    "    dz_dw4 = point[3]\n",
    "    dz_db = 1\n",
    "    \n",
    "    # the slope of the cost function\n",
    "    dcost_dz = dcost_prediction * dprediction_dz\n",
    "    \n",
    "    # the slope of weights & bias value\n",
    "    dcost_dw1 = dcost_dz * dz_dw1\n",
    "    dcost_dw2 = dcost_dz * dz_dw2\n",
    "    dcost_dw3 = dcost_dz * dz_dw3\n",
    "    dcost_dw4 = dcost_dz * dz_dw4\n",
    "    dcost_db = dcost_dz * dz_db\n",
    "    \n",
    "    # getting the new weights & bias values\n",
    "    w1 = w1 - learning_rate * dcost_dw1\n",
    "    w2 = w2 - learning_rate * dcost_dw2\n",
    "    w3 = w3 - learning_rate * dcost_dw3\n",
    "    w4 = w4 - learning_rate * dcost_dw4\n",
    "    b = b - learning_rate * dcost_db\n",
    "    \n",
    "    # this is just for the graph\n",
    "    if i % 100 == 0 :\n",
    "        cost_sum = 0\n",
    "        for j in range(len(data)) :\n",
    "            point = data[ri]\n",
    "            \n",
    "            z = point[0] * w1 + point[1] * w2 + point[2] * w3 + point[3] * w4 + b\n",
    "            prediction = sigmoid(z)\n",
    "            \n",
    "            target = point[4]\n",
    "            cost_sum += np.square(prediction - target)\n",
    "            \n",
    "        costs.append(cost_sum/len(data))\n",
    "\n",
    "plt.plot(costs)"
   ]
  },
  {
   "cell_type": "code",
   "execution_count": 24,
   "metadata": {
    "_cell_guid": "df415c0a-165a-4f21-8d4d-1796e029885f",
    "_execution_state": "idle",
    "_uuid": "50b60d4a7ca25f657d36316c68be9a5bc20f301e"
   },
   "outputs": [
    {
     "name": "stdout",
     "output_type": "stream",
     "text": [
      "[5.1, 3.5, 1.4, 0.2, 0.0]\n",
      "prediction : 9.86689431961e-05\n",
      "[4.9, 3.0, 1.4, 0.2, 0.0]\n",
      "prediction : 0.000536712976616\n",
      "[4.7, 3.2, 1.3, 0.2, 0.0]\n",
      "prediction : 0.00024980160693\n",
      "[4.6, 3.1, 1.5, 0.2, 0.0]\n",
      "prediction : 0.00110007302225\n",
      "[5.0, 3.6, 1.4, 0.2, 0.0]\n",
      "prediction : 8.75231448762e-05\n",
      "[5.2, 2.7, 3.9, 1.4, 1.0]\n",
      "prediction : 0.999957426494\n",
      "[5.0, 2.0, 3.5, 1.0, 1.0]\n",
      "prediction : 0.999855577145\n",
      "[5.9, 3.0, 4.2, 1.5, 1.0]\n",
      "prediction : 0.999957177839\n",
      "[6.0, 2.2, 4.0, 1.0, 1.0]\n",
      "prediction : 0.999913285433\n",
      "[6.1, 2.9, 4.7, 1.4, 1.0]\n",
      "prediction : 0.999995479079\n",
      "[5.6, 2.9, 3.6, 1.3, 1.0]\n",
      "prediction : 0.999059731535\n",
      "[6.7, 3.1, 4.4, 1.4, 1.0]\n",
      "prediction : 0.999902924079\n",
      "[5.6, 3.0, 4.5, 1.5, 1.0]\n",
      "prediction : 0.99999446032\n",
      "[5.8, 2.7, 4.1, 1.0, 1.0]\n",
      "prediction : 0.999850723945\n",
      "[6.2, 2.2, 4.5, 1.5, 1.0]\n",
      "prediction : 0.999998447087\n",
      "[5.6, 2.5, 3.9, 1.1, 1.0]\n",
      "prediction : 0.999872335378\n",
      "[5.4, 3.9, 1.3, 0.4, 0.0]\n",
      "prediction : 2.39448431903e-05\n",
      "[5.1, 3.5, 1.4, 0.3, 0.0]\n",
      "prediction : 0.000138861121291\n",
      "[5.7, 3.8, 1.7, 0.3, 0.0]\n",
      "prediction : 0.000114700211787\n",
      "[5.1, 3.8, 1.5, 0.3, 0.0]\n",
      "prediction : 0.000102517026166\n",
      "[7.0, 3.2, 4.7, 1.4, 1.0]\n",
      "prediction : 0.999957690537\n",
      "[6.4, 3.2, 4.5, 1.5, 1.0]\n",
      "prediction : 0.999966364558\n",
      "[6.9, 3.1, 4.9, 1.5, 1.0]\n",
      "prediction : 0.999993179135\n",
      "[5.5, 2.3, 4.0, 1.3, 1.0]\n",
      "prediction : 0.999981239211\n",
      "[5.7, 2.8, 4.5, 1.3, 1.0]\n",
      "prediction : 0.999992616294\n",
      "[5.4, 3.9, 1.7, 0.4, 0.0]\n",
      "prediction : 0.000195760122356\n",
      "[4.6, 3.4, 1.4, 0.3, 0.0]\n",
      "prediction : 0.000399990383598\n",
      "[4.4, 2.9, 1.4, 0.2, 0.0]\n",
      "prediction : 0.00154484933969\n",
      "[4.9, 3.1, 1.5, 0.1, 0.0]\n",
      "prediction : 0.000489225860809\n",
      "[5.4, 3.7, 1.5, 0.2, 0.0]\n",
      "prediction : 6.00646873175e-05\n",
      "[4.8, 3.4, 1.6, 0.2, 0.0]\n",
      "prediction : 0.000594293433261\n",
      "[4.8, 3.0, 1.4, 0.1, 0.0]\n",
      "prediction : 0.000445947641783\n",
      "[4.3, 3.0, 1.1, 0.1, 0.0]\n",
      "prediction : 0.000201627516418\n",
      "[5.8, 4.0, 1.2, 0.2, 0.0]\n",
      "prediction : 2.90119413872e-06\n",
      "[5.7, 4.4, 1.5, 0.4, 0.0]\n",
      "prediction : 1.076066834e-05\n",
      "[6.3, 3.3, 4.7, 1.6, 1.0]\n",
      "prediction : 0.999990577655\n",
      "[4.9, 2.4, 3.3, 1.0, 1.0]\n",
      "prediction : 0.99893453624\n",
      "[6.6, 2.9, 4.6, 1.3, 1.0]\n",
      "prediction : 0.999976482946\n",
      "[5.9, 3.2, 4.8, 1.8, 1.0]\n",
      "prediction : 0.999998858389\n",
      "[6.1, 2.8, 4.0, 1.3, 1.0]\n",
      "prediction : 0.999809186884\n",
      "[6.3, 2.5, 4.9, 1.5, 1.0]\n",
      "prediction : 0.99999949134\n",
      "[6.1, 2.8, 4.7, 1.2, 1.0]\n",
      "prediction : 0.999993206731\n",
      "[6.4, 2.9, 4.3, 1.3, 1.0]\n",
      "prediction : 0.999916831823\n"
     ]
    }
   ],
   "source": [
    "test_data = [[ 5.1,  3.5,  1.4,  0.2,  0. ],\n",
    "       [ 4.9,  3. ,  1.4,  0.2,  0. ],\n",
    "       [ 4.7,  3.2,  1.3,  0.2,  0. ],\n",
    "       [ 4.6,  3.1,  1.5,  0.2,  0. ],\n",
    "       [ 5. ,  3.6,  1.4,  0.2,  0. ],\n",
    "       [ 5.2,  2.7,  3.9,  1.4,  1. ],\n",
    "       [ 5. ,  2. ,  3.5,  1. ,  1. ],\n",
    "       [ 5.9,  3. ,  4.2,  1.5,  1. ],\n",
    "       [ 6. ,  2.2,  4. ,  1. ,  1. ],\n",
    "       [ 6.1,  2.9,  4.7,  1.4,  1. ],\n",
    "       [ 5.6,  2.9,  3.6,  1.3,  1. ],\n",
    "       [ 6.7,  3.1,  4.4,  1.4,  1. ],\n",
    "       [ 5.6,  3. ,  4.5,  1.5,  1. ],\n",
    "       [ 5.8,  2.7,  4.1,  1. ,  1. ],\n",
    "       [ 6.2,  2.2,  4.5,  1.5,  1. ],\n",
    "       [ 5.6,  2.5,  3.9,  1.1,  1. ],\n",
    "       [ 5.4,  3.9,  1.3,  0.4,  0. ],\n",
    "       [ 5.1,  3.5,  1.4,  0.3,  0. ],\n",
    "       [ 5.7,  3.8,  1.7,  0.3,  0. ],\n",
    "       [ 5.1,  3.8,  1.5,  0.3,  0. ],\n",
    "       [ 7. ,  3.2,  4.7,  1.4,  1. ],\n",
    "       [ 6.4,  3.2,  4.5,  1.5,  1. ],\n",
    "       [ 6.9,  3.1,  4.9,  1.5,  1. ],\n",
    "       [ 5.5,  2.3,  4. ,  1.3,  1. ],\n",
    "       [ 5.7,  2.8,  4.5,  1.3,  1. ],\n",
    "       [ 5.4,  3.9,  1.7,  0.4,  0. ],\n",
    "       [ 4.6,  3.4,  1.4,  0.3,  0. ],\n",
    "       [ 4.4,  2.9,  1.4,  0.2,  0. ],\n",
    "       [ 4.9,  3.1,  1.5,  0.1,  0. ],\n",
    "       [ 5.4,  3.7,  1.5,  0.2,  0. ],\n",
    "       [ 4.8,  3.4,  1.6,  0.2,  0. ],\n",
    "       [ 4.8,  3. ,  1.4,  0.1,  0. ],\n",
    "       [ 4.3,  3. ,  1.1,  0.1,  0. ],\n",
    "       [ 5.8,  4. ,  1.2,  0.2,  0. ],\n",
    "       [ 5.7,  4.4,  1.5,  0.4,  0. ],\n",
    "       [ 6.3,  3.3,  4.7,  1.6,  1. ],\n",
    "       [ 4.9,  2.4,  3.3,  1. ,  1. ],\n",
    "       [ 6.6,  2.9,  4.6,  1.3,  1. ],\n",
    "       [ 5.9,  3.2,  4.8,  1.8,  1. ],\n",
    "       [ 6.1,  2.8,  4. ,  1.3,  1. ],\n",
    "       [ 6.3,  2.5,  4.9,  1.5,  1. ],\n",
    "       [ 6.1,  2.8,  4.7,  1.2,  1. ],\n",
    "       [ 6.4,  2.9,  4.3,  1.3,  1. ]]\n",
    "\n",
    "for i in range(len(test_data)) :\n",
    "    point = test_data[i]\n",
    "    print(point)\n",
    "    \n",
    "    z = point[0] * w1 + point[1] * w2 + point[2] * w3 + point[3] * w4 + b\n",
    "    prediction = sigmoid(z)\n",
    "    print(\"prediction : {}\" .format(prediction))"
   ]
  },
  {
   "cell_type": "code",
   "execution_count": 25,
   "metadata": {
    "_cell_guid": "fc982cd9-605d-4203-96d5-13f14fc9bf8d",
    "_execution_state": "idle",
    "_uuid": "eeb58e4b1a81f4fe4b00866f01868bc8902cde3a"
   },
   "outputs": [
    {
     "data": {
      "text/plain": [
       "0.99997683644081004"
      ]
     },
     "execution_count": 25,
     "metadata": {},
     "output_type": "execute_result"
    }
   ],
   "source": [
    "# checkout the github to see this example using pandas\n",
    "# https://github.com/smakosh/Perceptron-neural-net-from-scratch/blob/master/Linear_regression_perceptron.ipynb\n",
    "\n",
    "mystery_flower = [5.6, 2.7, 4.2, 1.3]\n",
    "# for now let's just guess that mystery flower\n",
    "z = mystery_flower[0] * w1 + mystery_flower[1] * w2 + mystery_flower[2] * w3 + mystery_flower[3] * w4 + b\n",
    "prediction = sigmoid(z)\n",
    "prediction"
   ]
  },
  {
   "cell_type": "code",
   "execution_count": 26,
   "metadata": {
    "_cell_guid": "ddeb0e5c-ea01-458a-8e43-59fa75a6d2b7",
    "_execution_state": "idle",
    "_uuid": "f0b12a9c3bef686ca567bf3fffea312eb901b37c",
    "collapsed": true
   },
   "outputs": [],
   "source": [
    "# 0 for Iris-setosa and 1 for Iris-versicolor\n",
    "def guess_flower(SepalLength, SepalWidth, PetalLength, PetalWidth) :\n",
    "    z = SepalLength * w1 + SepalWidth * w2 + PetalLength * w3 + PetalWidth * w4 + b\n",
    "    prediction = sigmoid(z)\n",
    "    if prediction < .5:\n",
    "        print('Iris-setosa')\n",
    "    else:\n",
    "        print('Iris-versicolor')"
   ]
  },
  {
   "cell_type": "code",
   "execution_count": 27,
   "metadata": {
    "_cell_guid": "3362ee43-6e8f-4ff4-8946-72597baaa2fb",
    "_execution_state": "idle",
    "_uuid": "94e129463c846f0b22d626863ada4aafb86305ab"
   },
   "outputs": [
    {
     "name": "stdout",
     "output_type": "stream",
     "text": [
      "Iris-versicolor\n"
     ]
    }
   ],
   "source": [
    "guess_flower(6.6,  3 ,  4.4,  1.4)"
   ]
  },
  {
   "cell_type": "code",
   "execution_count": 28,
   "metadata": {
    "_cell_guid": "f0cf9b85-c214-4660-8d86-29a41f8fb13a",
    "_execution_state": "idle",
    "_uuid": "392d74fff2f8ae25c8247cb0e567b4e399c21b83"
   },
   "outputs": [
    {
     "name": "stdout",
     "output_type": "stream",
     "text": [
      "Iris-setosa\n"
     ]
    }
   ],
   "source": [
    "guess_flower( 5.,  3.4,  1.5,  0.2)"
   ]
  },
  {
   "cell_type": "code",
   "execution_count": 29,
   "metadata": {
    "_cell_guid": "3205202a-c7a4-4eff-8dca-f934b96dfbfe",
    "_execution_state": "idle",
    "_uuid": "93b30dfa613786dfebc9de32c0d1678f2944a758"
   },
   "outputs": [
    {
     "name": "stdout",
     "output_type": "stream",
     "text": [
      "Iris-versicolor\n"
     ]
    }
   ],
   "source": [
    "guess_flower(6.5,  2.8,  4.6,  1.5)"
   ]
  }
 ],
 "metadata": {
  "kernelspec": {
   "display_name": "Python 2",
   "language": "python",
   "name": "python2"
  },
  "language_info": {
   "codemirror_mode": {
    "name": "ipython",
    "version": 2
   },
   "file_extension": ".py",
   "mimetype": "text/x-python",
   "name": "python",
   "nbconvert_exporter": "python",
   "pygments_lexer": "ipython2",
   "version": "2.7.13"
  }
 },
 "nbformat": 4,
 "nbformat_minor": 2
}
