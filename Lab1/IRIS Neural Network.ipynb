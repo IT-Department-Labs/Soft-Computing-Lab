{
 "cells": [
  {
   "cell_type": "code",
   "execution_count": 1,
   "metadata": {
    "collapsed": true
   },
   "outputs": [],
   "source": [
    "from random import randrange\n",
    "import csv "
   ]
  },
  {
   "cell_type": "code",
   "execution_count": 2,
   "metadata": {
    "collapsed": true
   },
   "outputs": [],
   "source": [
    "# Load a CSV file\n",
    "def load_csv(filename):\n",
    "\tdataset = list()\n",
    "\twith open(filename, 'r') as input1:\n",
    "\t\treader =csv.reader(input1)\n",
    "\t\tfor row in reader:\n",
    "\t\t\tdataset.append(row)\n",
    "\t\tdataset.pop(0)\n",
    "\tnumrow = len(dataset)\n",
    "\tnumcol = len(dataset[0])\n",
    "\treturn dataset, numrow, numcol"
   ]
  },
  {
   "cell_type": "code",
   "execution_count": 3,
   "metadata": {
    "collapsed": true
   },
   "outputs": [],
   "source": [
    "#coverting the string into int\n",
    "def number_classlabel(dataset):\n",
    "\tfor i in range(100):\n",
    "\t\tfor j in range(5):\n",
    "\t\t\tif (dataset[i][j] == 'Iris-setosa'):\n",
    "\t\t\t\tdataset[i][j] = 0\n",
    "\t\t\telif (dataset[i][j] == 'Iris-versicolor'):\n",
    "\t\t\t\tdataset[i][j] = 1"
   ]
  },
  {
   "cell_type": "code",
   "execution_count": 4,
   "metadata": {
    "collapsed": true
   },
   "outputs": [],
   "source": [
    "#converting the string into float in the dataset\n",
    "def string_to_float(dataset):\n",
    "\tfor i in range(100):\n",
    "\t\tfor j in range(4):\n",
    "\t\t\tdataset[i][j] = float(dataset[i][j])"
   ]
  },
  {
   "cell_type": "code",
   "execution_count": 5,
   "metadata": {
    "collapsed": true
   },
   "outputs": [],
   "source": [
    "# Make a prediction with weights\n",
    "def predict(row, weights, threshold):\n",
    "\tsum_weight = weights[0] #this is the weight of the bias\n",
    "\tfor i in range(len(row)-1):\n",
    "\t\tsum_weight += weights[i + 1] * row[i]\n",
    "\treturn 1 if sum_weight >= threshold else 0"
   ]
  },
  {
   "cell_type": "code",
   "execution_count": 6,
   "metadata": {
    "collapsed": true
   },
   "outputs": [],
   "source": [
    "# Estimate weights\n",
    "def train_weights(trainset, l_rate, max_iter,threshold):\n",
    "\tweights = [0.2 for i in range(len(trainset[0]))]\n",
    "\ttotal_error = 0\n",
    "\tfor itern in range(max_iter):\n",
    "\t\tfor row in trainset:\n",
    "\t\t\tprediction = predict(row, weights, threshold)\n",
    "\t\t\terror = row[-1] - prediction               #row[-1] returns the class label for that particular row\n",
    "\t\t\ttotal_error += error * error\n",
    "\t\t\tweights[0] = weights[0] + l_rate * error   #this is for bias weight change\n",
    "\t\t\tfor i in range(len(row)-1):\n",
    "\t\t\t\tweights[i + 1] = weights[i + 1] + l_rate * error * row[i] #this is for features weight change\n",
    "\t\tif(total_error == 0):                     #if total error becomes zero then break from that fold\n",
    "\t\t\tbreak\n",
    "\treturn weights"
   ]
  },
  {
   "cell_type": "code",
   "execution_count": 7,
   "metadata": {
    "collapsed": true
   },
   "outputs": [],
   "source": [
    "# Split a dataset into k folds\n",
    "def cross_validation_split(dataset, n_folds):\n",
    "\tdataset_split = list()\n",
    "\tdataset_copy = list(dataset)\n",
    "\tfold_size = int(len(dataset) / n_folds)\n",
    "\tfor i in range(n_folds):\n",
    "\t\tfold = list()\n",
    "\t\twhile len(fold) < fold_size:\n",
    "\t\t\tindex = randrange(len(dataset_copy))\n",
    "\t\t\tfold.append(dataset_copy.pop(index))\n",
    "\t\tdataset_split.append(fold)\n",
    "\treturn dataset_split"
   ]
  },
  {
   "cell_type": "code",
   "execution_count": 8,
   "metadata": {
    "collapsed": true
   },
   "outputs": [],
   "source": [
    "# Calculate accuracy percentage\n",
    "def accuracy_metric(actual, predicted):\n",
    "\tcorrect = 0\n",
    "\tfor i in range(len(actual)):\n",
    "\t\tif actual[i] == predicted[i]:\n",
    "\t\t\tcorrect += 1\n",
    "\treturn correct / float(len(actual)) * 100.0"
   ]
  },
  {
   "cell_type": "code",
   "execution_count": 9,
   "metadata": {
    "collapsed": true
   },
   "outputs": [],
   "source": [
    "# Evaluate an algorithm using a cross validation split\n",
    "def evaluate_algorithm(dataset, algorithm, n_folds, l_rate,max_iter,threshold):\n",
    "\tfolds = cross_validation_split(dataset, n_folds)\n",
    "\tscores = list()\n",
    "\tfor fold in folds:\n",
    "\t\ttrain_set = list(folds)\n",
    "\t\ttrain_set.remove(fold)\n",
    "\t\ttrain_set = sum(train_set, [])\n",
    "\t\ttest_set = list()\n",
    "\t\tfor row in fold:\n",
    "\t\t\trow_copy = list(row)\n",
    "\t\t\ttest_set.append(row_copy)\n",
    "\t\t\trow_copy[-1] = None\n",
    "\t\tpredicted = algorithm(train_set, test_set, l_rate, max_iter,threshold)\n",
    "\t\tactual = [row[-1] for row in fold]\n",
    "\t\taccuracy = accuracy_metric(actual, predicted)\n",
    "\t\tscores.append(accuracy)\n",
    "\treturn scores"
   ]
  },
  {
   "cell_type": "code",
   "execution_count": 10,
   "metadata": {
    "collapsed": true
   },
   "outputs": [],
   "source": [
    "# Perceptron Algorithm With Stochastic Gradient Descent\n",
    "def perceptron(train, test, l_rate, max_iter,threshold):\n",
    "\tpredictions = list()\n",
    "\tweights = train_weights(train, l_rate, max_iter,threshold)\n",
    "\tprint weights\n",
    "\tfor row in test:\n",
    "\t\tprediction = predict(row, weights,threshold)\n",
    "\t\tpredictions.append(prediction)\n",
    "\treturn(predictions)"
   ]
  },
  {
   "cell_type": "code",
   "execution_count": 15,
   "metadata": {},
   "outputs": [
    {
     "name": "stdout",
     "output_type": "stream",
     "text": [
      "[0.2, 0.18499999999999994, -0.025000000000000022, 0.5150000000000001, 0.335]\n",
      "[0.2, 0.18499999999999994, -0.025000000000000022, 0.5150000000000001, 0.335]\n",
      "[0.19999999999999998, -0.010000000000000342, -0.27999999999999997, 0.83, 0.5750000000000001]\n",
      "[0.2, 0.18499999999999994, -0.025000000000000022, 0.5150000000000001, 0.335]\n",
      "[0.2, 0.18499999999999994, -0.025000000000000022, 0.5150000000000001, 0.335]\n",
      "[0.2, 0.18499999999999994, -0.025000000000000022, 0.5150000000000001, 0.335]\n",
      "[0.2, 0.18499999999999994, -0.025000000000000022, 0.5150000000000001, 0.335]\n",
      "[0.2, 0.18499999999999994, -0.025000000000000022, 0.5150000000000001, 0.335]\n",
      "[0.2, 0.18499999999999994, -0.025000000000000022, 0.5150000000000001, 0.335]\n",
      "[0.2, 0.18499999999999994, -0.025000000000000022, 0.5150000000000001, 0.335]\n",
      "Scores: [100.0, 100.0, 100.0, 100.0, 100.0, 100.0, 100.0, 100.0, 100.0, 100.0]\n",
      "Mean Accuracy: 100.000%\n"
     ]
    }
   ],
   "source": [
    "filename = 'IRIS.csv'\n",
    "dataset = load_csv(filename)\n",
    "dataset, numrow, numcol = load_csv(filename)\n",
    "number_classlabel(dataset)\n",
    "string_to_float(dataset)\n",
    "l_rate = 0.15\n",
    "threshold = 2.5\n",
    "max_iter= 10000\n",
    "n_folds = 10\n",
    "scores = evaluate_algorithm(dataset, perceptron, n_folds, l_rate, max_iter,threshold)\n",
    "print('Scores: %s' % scores)\n",
    "print('Mean Accuracy: %.3f%%' % (sum(scores)/float(len(scores))))"
   ]
  }
 ],
 "metadata": {
  "kernelspec": {
   "display_name": "Python 2",
   "language": "python",
   "name": "python2"
  },
  "language_info": {
   "codemirror_mode": {
    "name": "ipython",
    "version": 2
   },
   "file_extension": ".py",
   "mimetype": "text/x-python",
   "name": "python",
   "nbconvert_exporter": "python",
   "pygments_lexer": "ipython2",
   "version": "2.7.13"
  }
 },
 "nbformat": 4,
 "nbformat_minor": 2
}
