{
 "cells": [
  {
   "cell_type": "code",
   "execution_count": 1,
   "metadata": {
    "collapsed": true
   },
   "outputs": [],
   "source": [
    "import numpy as np\n",
    "import pandas as pd\n",
    "import matplotlib.pyplot as plt"
   ]
  },
  {
   "cell_type": "code",
   "execution_count": 4,
   "metadata": {},
   "outputs": [
    {
     "data": {
      "image/png": "[encoded data removed]",
      "text/plain": [
       "<matplotlib.figure.Figure at 0x7fdc1977cd90>"
      ]
     },
     "metadata": {},
     "output_type": "display_data"
    }
   ],
   "source": [
    "plt.scatter(X[:50, 0], X[:50, 1], color='red', marker='o', label='setosa')\n",
    "plt.scatter(X[50:100, 0], X[50:100, 1], color='blue', marker='x', label='versicolor')\n",
    "plt.xlabel('Petal Length')\n",
    "plt.ylabel('Sepal Length')\n",
    "plt.legend(loc='upper left')\n",
    "plt.show()"
   ]
  },
  {
   "cell_type": "code",
   "execution_count": 35,
   "metadata": {
    "collapsed": true
   },
   "outputs": [],
   "source": [
    "df=pd.read_csv('IRIS.csv')\n",
    "\n",
    "w1 = (1.0/len(df.columns))\n",
    "w2 = 1.0/len(df.columns)\n",
    "w3 = 1.0/len(df.columns)\n",
    "w4 = 1.0/len(df.columns)\n",
    "\n",
    "threshold = 2.0\n",
    "learning_rate = 0.1"
   ]
  },
  {
   "cell_type": "code",
   "execution_count": 36,
   "metadata": {
    "collapsed": true
   },
   "outputs": [],
   "source": [
    "y = df.iloc[0:100, 4].values\n",
    "y = np.where(y == 'Iris-setosa', 0, 1)\n",
    "\n",
    "X = df.iloc[0:100, [0,1,2,3]].values\n",
    "\n",
    "W = np.array([w1, w2, w3, w4])"
   ]
  },
  {
   "cell_type": "code",
   "execution_count": 37,
   "metadata": {},
   "outputs": [
    {
     "name": "stdout",
     "output_type": "stream",
     "text": [
      "2.04\n",
      "1.9\n",
      "1.88\n",
      "1.88\n",
      "2.04\n",
      "2.28\n",
      "1.94\n",
      "2.02\n",
      "1.78\n",
      "1.92\n",
      "2.16\n",
      "2.0\n",
      "1.86\n",
      "1.7\n",
      "2.24\n",
      "2.4\n",
      "2.2\n",
      "2.06\n",
      "2.3\n",
      "2.14\n",
      "2.14\n",
      "2.14\n",
      "1.88\n",
      "2.12\n",
      "2.06\n",
      "1.96\n",
      "2.08\n",
      "2.08\n",
      "2.04\n",
      "1.94\n",
      "1.94\n",
      "2.14\n",
      "2.18\n",
      "2.26\n",
      "1.92\n",
      "1.92\n",
      "2.1\n",
      "1.92\n",
      "1.78\n",
      "2.04\n",
      "2.02\n",
      "1.68\n",
      "1.82\n",
      "2.14\n",
      "2.24\n",
      "1.9\n",
      "2.14\n",
      "1.88\n",
      "2.14\n",
      "1.98\n",
      "3.26\n",
      "3.12\n",
      "3.28\n",
      "2.62\n",
      "3.08\n",
      "2.86\n",
      "3.18\n",
      "2.32\n",
      "3.08\n",
      "2.64\n",
      "2.3\n",
      "2.92\n",
      "2.64\n",
      "3.02\n",
      "2.68\n",
      "3.12\n",
      "2.92\n",
      "2.72\n",
      "2.88\n",
      "2.62\n",
      "3.14\n",
      "2.84\n",
      "3.04\n",
      "2.96\n",
      "2.98\n",
      "3.08\n",
      "3.16\n",
      "3.28\n",
      "2.98\n",
      "2.56\n",
      "2.56\n",
      "2.52\n",
      "2.72\n",
      "3.08\n",
      "2.88\n",
      "3.1\n",
      "3.2\n",
      "2.86\n",
      "2.8\n",
      "2.66\n",
      "2.74\n",
      "3.02\n",
      "2.72\n",
      "2.32\n",
      "2.76\n",
      "2.82\n",
      "2.82\n",
      "2.94\n",
      "2.34\n",
      "2.78\n"
     ]
    }
   ],
   "source": [
    "for row in X and result in Y:\n",
    "    calculated_value = row[0]*W[0] + row[1]*W[1] + row[2]*W[2] + row[3]*W[3]\n",
    "    print(calculated_value)\n",
    "    W[0] = learning_rate*(calculatedY[0])*row[0]\n",
    "    W[1] = learning_rate*(Y[1])*row[1]\n",
    "    W[2] = learning_rate*(Y[2])*row[2]\n",
    "    W[3] = learning_rate*(Y[3])*row[3]\n",
    "    "
   ]
  }
 ],
 "metadata": {
  "kernelspec": {
   "display_name": "Python 2",
   "language": "python",
   "name": "python2"
  },
  "language_info": {
   "codemirror_mode": {
    "name": "ipython",
    "version": 2
   },
   "file_extension": ".py",
   "mimetype": "text/x-python",
   "name": "python",
   "nbconvert_exporter": "python",
   "pygments_lexer": "ipython2",
   "version": "2.7.13"
  }
 },
 "nbformat": 4,
 "nbformat_minor": 2
}
